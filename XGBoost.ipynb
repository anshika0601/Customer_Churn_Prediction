{
 "cells": [
  {
   "cell_type": "code",
   "execution_count": 1,
   "id": "c198ca71-65b9-47a1-b818-78117cf0bda1",
   "metadata": {},
   "outputs": [],
   "source": [
    "import pandas as pd\n",
    "df = pd.read_csv(\"churn_customer.csv\")"
   ]
  },
  {
   "cell_type": "code",
   "execution_count": 2,
   "id": "0b04f1b3-bff3-4830-8d92-8df93ccfbd69",
   "metadata": {},
   "outputs": [],
   "source": [
    "from sklearn.preprocessing import LabelEncoder, OneHotEncoder\n",
    "from sklearn.compose import ColumnTransformer\n",
    "\n",
    "# Separate features and target\n",
    "X = df.drop('Churn', axis=1)\n",
    "y = df['Churn']\n",
    "\n",
    "# Encode target (Yes/No → 1/0)\n",
    "le = LabelEncoder()\n",
    "y = le.fit_transform(y)\n",
    "\n",
    "# Select categorical columns\n",
    "categorical_cols = X.select_dtypes(include=['object']).columns\n",
    "\n",
    "# One-hot encode categorical features\n",
    "X = pd.get_dummies(X, columns=categorical_cols, drop_first=True)\n"
   ]
  },
  {
   "cell_type": "code",
   "execution_count": 3,
   "id": "1896bf88-1452-4da1-94b1-b621b3479c39",
   "metadata": {},
   "outputs": [],
   "source": [
    "from sklearn.preprocessing import StandardScaler\n",
    "\n",
    "# Identify numeric columns\n",
    "numeric_cols = X.select_dtypes(include=['int64','float64']).columns\n",
    "\n",
    "# Scale them\n",
    "scaler = StandardScaler()\n",
    "X[numeric_cols] = scaler.fit_transform(X[numeric_cols])\n"
   ]
  },
  {
   "cell_type": "code",
   "execution_count": 4,
   "id": "f1bec426-c84e-41c9-b7f4-e3b98c5c4e14",
   "metadata": {},
   "outputs": [
    {
     "name": "stdout",
     "output_type": "stream",
     "text": [
      "Train shape: (5634, 13601)\n",
      "Test shape: (1409, 13601)\n"
     ]
    }
   ],
   "source": [
    "from sklearn.model_selection import train_test_split\n",
    "\n",
    "X_train, X_test, y_train, y_test = train_test_split(\n",
    "    X, y, test_size=0.2, random_state=42, stratify=y\n",
    ")\n",
    "\n",
    "print(\"Train shape:\", X_train.shape)\n",
    "print(\"Test shape:\", X_test.shape)\n"
   ]
  },
  {
   "cell_type": "code",
   "execution_count": null,
   "id": "6802aa55-7fdb-4abc-9c77-870bd182d317",
   "metadata": {},
   "outputs": [
    {
     "name": "stderr",
     "output_type": "stream",
     "text": [
      "\n",
      "[notice] A new release of pip is available: 25.0.1 -> 25.2\n",
      "[notice] To update, run: python.exe -m pip install --upgrade pip\n"
     ]
    },
    {
     "name": "stdout",
     "output_type": "stream",
     "text": [
      "Collecting xgboost\n",
      "  Downloading xgboost-3.0.5-py3-none-win_amd64.whl.metadata (2.1 kB)\n",
      "Requirement already satisfied: numpy in c:\\users\\asus\\onedrive\\desktop\\new folder (2)\\env\\lib\\site-packages (from xgboost) (2.2.6)\n",
      "Requirement already satisfied: scipy in c:\\users\\asus\\onedrive\\desktop\\new folder (2)\\env\\lib\\site-packages (from xgboost) (1.16.1)\n",
      "Downloading xgboost-3.0.5-py3-none-win_amd64.whl (56.8 MB)\n",
      "   ---------------------------------------- 0.0/56.8 MB ? eta -:--:--\n",
      "   ---------------------------------------- 0.3/56.8 MB ? eta -:--:--\n",
      "    --------------------------------------- 0.8/56.8 MB 1.9 MB/s eta 0:00:29\n",
      "    --------------------------------------- 1.0/56.8 MB 2.1 MB/s eta 0:00:27\n",
      "   - -------------------------------------- 1.6/56.8 MB 2.1 MB/s eta 0:00:26\n",
      "   - -------------------------------------- 2.1/56.8 MB 2.0 MB/s eta 0:00:28\n",
      "   - -------------------------------------- 2.4/56.8 MB 2.1 MB/s eta 0:00:27\n",
      "   -- ------------------------------------- 2.9/56.8 MB 2.1 MB/s eta 0:00:26\n",
      "   -- ------------------------------------- 3.4/56.8 MB 2.1 MB/s eta 0:00:26\n",
      "   -- ------------------------------------- 3.7/56.8 MB 2.0 MB/s eta 0:00:27\n",
      "   -- ------------------------------------- 4.2/56.8 MB 2.0 MB/s eta 0:00:26\n",
      "   --- ------------------------------------ 4.7/56.8 MB 2.1 MB/s eta 0:00:26\n",
      "   --- ------------------------------------ 5.0/56.8 MB 2.1 MB/s eta 0:00:25\n",
      "   --- ------------------------------------ 5.5/56.8 MB 2.1 MB/s eta 0:00:25\n",
      "   ---- ----------------------------------- 6.0/56.8 MB 2.1 MB/s eta 0:00:24\n",
      "   ---- ----------------------------------- 6.8/56.8 MB 2.2 MB/s eta 0:00:23\n",
      "   ----- ---------------------------------- 7.6/56.8 MB 2.3 MB/s eta 0:00:22\n",
      "   ------ --------------------------------- 8.9/56.8 MB 2.5 MB/s eta 0:00:19\n",
      "   ------- -------------------------------- 10.2/56.8 MB 2.8 MB/s eta 0:00:17\n",
      "   -------- ------------------------------- 11.5/56.8 MB 2.9 MB/s eta 0:00:16\n",
      "   -------- ------------------------------- 12.6/56.8 MB 3.0 MB/s eta 0:00:15\n",
      "   --------- ------------------------------ 13.6/56.8 MB 3.1 MB/s eta 0:00:14\n",
      "   ---------- ----------------------------- 14.4/56.8 MB 3.2 MB/s eta 0:00:14\n",
      "   ---------- ----------------------------- 15.5/56.8 MB 3.2 MB/s eta 0:00:13\n",
      "   ----------- ---------------------------- 16.3/56.8 MB 3.3 MB/s eta 0:00:13\n",
      "   ------------ --------------------------- 17.3/56.8 MB 3.3 MB/s eta 0:00:12\n",
      "   ------------ --------------------------- 18.1/56.8 MB 3.4 MB/s eta 0:00:12\n",
      "   ------------- -------------------------- 19.7/56.8 MB 3.5 MB/s eta 0:00:11\n",
      "   -------------- ------------------------- 20.7/56.8 MB 3.5 MB/s eta 0:00:11\n",
      "   --------------- ------------------------ 21.8/56.8 MB 3.6 MB/s eta 0:00:10\n",
      "   ---------------- ----------------------- 22.8/56.8 MB 3.6 MB/s eta 0:00:10\n",
      "   ---------------- ----------------------- 23.9/56.8 MB 3.7 MB/s eta 0:00:09\n",
      "   ----------------- ---------------------- 24.9/56.8 MB 3.7 MB/s eta 0:00:09\n",
      "   ------------------ --------------------- 26.2/56.8 MB 3.8 MB/s eta 0:00:09\n",
      "   ------------------- -------------------- 27.3/56.8 MB 3.8 MB/s eta 0:00:08\n",
      "   -------------------- ------------------- 28.6/56.8 MB 3.9 MB/s eta 0:00:08\n",
      "   --------------------- ------------------ 29.9/56.8 MB 3.9 MB/s eta 0:00:07\n",
      "   --------------------- ------------------ 31.2/56.8 MB 4.0 MB/s eta 0:00:07\n",
      "   ---------------------- ----------------- 32.2/56.8 MB 4.0 MB/s eta 0:00:07\n",
      "   ----------------------- ---------------- 33.8/56.8 MB 4.1 MB/s eta 0:00:06\n",
      "   ------------------------ --------------- 35.1/56.8 MB 4.2 MB/s eta 0:00:06\n",
      "   ------------------------- -------------- 36.2/56.8 MB 4.2 MB/s eta 0:00:05\n",
      "   -------------------------- ------------- 37.2/56.8 MB 4.2 MB/s eta 0:00:05\n",
      "   --------------------------- ------------ 38.5/56.8 MB 4.2 MB/s eta 0:00:05\n",
      "   ---------------------------- ----------- 39.8/56.8 MB 4.3 MB/s eta 0:00:04\n",
      "   ---------------------------- ----------- 40.9/56.8 MB 4.3 MB/s eta 0:00:04\n",
      "   ----------------------------- ---------- 42.2/56.8 MB 4.3 MB/s eta 0:00:04\n",
      "   ------------------------------ --------- 43.5/56.8 MB 4.4 MB/s eta 0:00:04\n",
      "   ------------------------------- -------- 44.8/56.8 MB 4.4 MB/s eta 0:00:03\n",
      "   ------------------------------- -------- 45.1/56.8 MB 4.4 MB/s eta 0:00:03\n",
      "   ------------------------------- -------- 45.1/56.8 MB 4.4 MB/s eta 0:00:03\n",
      "   ------------------------------- -------- 45.4/56.8 MB 4.2 MB/s eta 0:00:03\n",
      "   -------------------------------- ------- 46.1/56.8 MB 4.3 MB/s eta 0:00:03\n",
      "   -------------------------------- ------- 46.4/56.8 MB 4.2 MB/s eta 0:00:03\n",
      "   --------------------------------- ------ 46.9/56.8 MB 4.1 MB/s eta 0:00:03\n",
      "   --------------------------------- ------ 46.9/56.8 MB 4.1 MB/s eta 0:00:03\n",
      "   --------------------------------- ------ 47.2/56.8 MB 4.0 MB/s eta 0:00:03\n",
      "   --------------------------------- ------ 47.4/56.8 MB 4.0 MB/s eta 0:00:03\n",
      "   --------------------------------- ------ 47.7/56.8 MB 3.9 MB/s eta 0:00:03\n",
      "   --------------------------------- ------ 48.2/56.8 MB 3.9 MB/s eta 0:00:03\n",
      "   ---------------------------------- ----- 48.8/56.8 MB 3.8 MB/s eta 0:00:03\n",
      "   ---------------------------------- ----- 49.3/56.8 MB 3.8 MB/s eta 0:00:02\n",
      "   ----------------------------------- ---- 50.1/56.8 MB 3.8 MB/s eta 0:00:02\n",
      "   ----------------------------------- ---- 50.6/56.8 MB 3.8 MB/s eta 0:00:02\n",
      "   ------------------------------------ --- 51.4/56.8 MB 3.8 MB/s eta 0:00:02\n",
      "   ------------------------------------ --- 52.4/56.8 MB 3.8 MB/s eta 0:00:02\n",
      "   ------------------------------------- -- 53.7/56.8 MB 3.8 MB/s eta 0:00:01\n",
      "   -------------------------------------- - 54.8/56.8 MB 3.9 MB/s eta 0:00:01\n",
      "   ---------------------------------------  55.8/56.8 MB 3.9 MB/s eta 0:00:01\n",
      "   ---------------------------------------  56.6/56.8 MB 3.9 MB/s eta 0:00:01\n",
      "   ---------------------------------------- 56.8/56.8 MB 3.8 MB/s eta 0:00:00\n",
      "Installing collected packages: xgboost\n",
      "Successfully installed xgboost-3.0.5\n",
      "Fitting 3 folds for each of 36 candidates, totalling 108 fits\n"
     ]
    }
   ],
   "source": [
    "!pip install xgboost\n",
    "\n",
    "from xgboost import XGBClassifier\n",
    "from sklearn.model_selection import GridSearchCV\n",
    "# Define model\n",
    "xgb = XGBClassifier(use_label_encoder=False, eval_metric='logloss', random_state=42)\n",
    "\n",
    "# Hyperparameter grid\n",
    "xgb_param_grid = {\n",
    "    'n_estimators': [100, 200],\n",
    "    'max_depth': [3, 5, 7],\n",
    "    'learning_rate': [0.01, 0.1, 0.2],\n",
    "    'subsample': [0.8, 1]\n",
    "}\n",
    "\n",
    "# GridSearch\n",
    "xgb_grid = GridSearchCV(\n",
    "    estimator=xgb,\n",
    "    param_grid=xgb_param_grid,\n",
    "    cv=3,\n",
    "    scoring='roc_auc',\n",
    "    verbose=1,\n",
    "    n_jobs=-1\n",
    ")\n",
    "\n",
    "xgb_grid.fit(X_train, y_train)\n",
    "\n"
   ]
  },
  {
   "cell_type": "code",
   "execution_count": null,
   "id": "528cfd7b-086f-4a01-af8e-4010215c7a61",
   "metadata": {},
   "outputs": [],
   "source": [
    "print(\"🔹 Best XGBoost Params:\", xgb_grid.best_params_)\n",
    "print(\"Best ROC-AUC:\", xgb_grid.best_score_)\n",
    "\n",
    "# Evaluate on test\n",
    "y_pred_xgb = xgb_grid.predict(X_test)\n",
    "print(\"Accuracy:\", accuracy_score(y_test, y_pred_xgb))\n",
    "print(classification_report(y_test, y_pred_xgb))\n",
    "print(\"ROC-AUC:\", roc_auc_score(y_test, xgb_grid.predict_proba(X_test)[:,1]))\n"
   ]
  },
  {
   "cell_type": "code",
   "execution_count": null,
   "id": "5fa42c66-a3a5-46e2-af4b-721de2bbb52a",
   "metadata": {},
   "outputs": [],
   "source": []
  }
 ],
 "metadata": {
  "kernelspec": {
   "display_name": "Python 3 (ipykernel)",
   "language": "python",
   "name": "python3"
  },
  "language_info": {
   "codemirror_mode": {
    "name": "ipython",
    "version": 3
   },
   "file_extension": ".py",
   "mimetype": "text/x-python",
   "name": "python",
   "nbconvert_exporter": "python",
   "pygments_lexer": "ipython3",
   "version": "3.13.3"
  }
 },
 "nbformat": 4,
 "nbformat_minor": 5
}
